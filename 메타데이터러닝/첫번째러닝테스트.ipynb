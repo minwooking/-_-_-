{
 "cells": [
  {
   "cell_type": "code",
   "execution_count": 1,
   "metadata": {},
   "outputs": [],
   "source": [
    "import pandas as pd\n",
    "# del df['edible_yn'] # 삭제 코드\n",
    "# df.to_csv('realoriginal_test3.csv')## test3 에서 많은 전처리를 했기 때문에 사용하면 됨 \n",
    "# df = pd.read_csv('realoriginal_test3.csv')"
   ]
  },
  {
   "cell_type": "code",
   "execution_count": 184,
   "metadata": {},
   "outputs": [],
   "source": [
    "df1 = pd.read_csv('realoriginal_test4.csv')"
   ]
  },
  {
   "cell_type": "code",
   "execution_count": 192,
   "metadata": {},
   "outputs": [
    {
     "data": {
      "text/html": [
       "<div>\n",
       "<style scoped>\n",
       "    .dataframe tbody tr th:only-of-type {\n",
       "        vertical-align: middle;\n",
       "    }\n",
       "\n",
       "    .dataframe tbody tr th {\n",
       "        vertical-align: top;\n",
       "    }\n",
       "\n",
       "    .dataframe thead th {\n",
       "        text-align: right;\n",
       "    }\n",
       "</style>\n",
       "<table border=\"1\" class=\"dataframe\">\n",
       "  <thead>\n",
       "    <tr style=\"text-align: right;\">\n",
       "      <th></th>\n",
       "      <th>wd_plnt_nm</th>\n",
       "      <th>wd_plnt_idntfr</th>\n",
       "      <th>region_nm</th>\n",
       "      <th>region_type</th>\n",
       "      <th>plant_part</th>\n",
       "      <th>object_class_lclas_nm</th>\n",
       "      <th>object_class_sclas_nm</th>\n",
       "      <th>woody_herbal</th>\n",
       "      <th>acquisition_term</th>\n",
       "    </tr>\n",
       "  </thead>\n",
       "  <tbody>\n",
       "    <tr>\n",
       "      <th>0</th>\n",
       "      <td>메밀</td>\n",
       "      <td>9</td>\n",
       "      <td>서귀포시 안덕면 서광리</td>\n",
       "      <td>평지</td>\n",
       "      <td>꽃</td>\n",
       "      <td>초본</td>\n",
       "      <td>꽃</td>\n",
       "      <td>2</td>\n",
       "      <td>6</td>\n",
       "    </tr>\n",
       "    <tr>\n",
       "      <th>1</th>\n",
       "      <td>메밀</td>\n",
       "      <td>9</td>\n",
       "      <td>서귀포시 안덕면 서광리</td>\n",
       "      <td>평지</td>\n",
       "      <td>꽃</td>\n",
       "      <td>초본</td>\n",
       "      <td>꽃</td>\n",
       "      <td>2</td>\n",
       "      <td>6</td>\n",
       "    </tr>\n",
       "    <tr>\n",
       "      <th>2</th>\n",
       "      <td>메밀</td>\n",
       "      <td>9</td>\n",
       "      <td>서귀포시 안덕면 서광리</td>\n",
       "      <td>평지</td>\n",
       "      <td>꽃</td>\n",
       "      <td>초본</td>\n",
       "      <td>꽃</td>\n",
       "      <td>2</td>\n",
       "      <td>6</td>\n",
       "    </tr>\n",
       "    <tr>\n",
       "      <th>3</th>\n",
       "      <td>메밀</td>\n",
       "      <td>9</td>\n",
       "      <td>서귀포시 안덕면 서광리</td>\n",
       "      <td>평지</td>\n",
       "      <td>꽃</td>\n",
       "      <td>초본</td>\n",
       "      <td>꽃</td>\n",
       "      <td>2</td>\n",
       "      <td>6</td>\n",
       "    </tr>\n",
       "    <tr>\n",
       "      <th>4</th>\n",
       "      <td>메밀</td>\n",
       "      <td>9</td>\n",
       "      <td>서귀포시 안덕면 서광리</td>\n",
       "      <td>평지</td>\n",
       "      <td>꽃</td>\n",
       "      <td>초본</td>\n",
       "      <td>꽃</td>\n",
       "      <td>2</td>\n",
       "      <td>6</td>\n",
       "    </tr>\n",
       "    <tr>\n",
       "      <th>...</th>\n",
       "      <td>...</td>\n",
       "      <td>...</td>\n",
       "      <td>...</td>\n",
       "      <td>...</td>\n",
       "      <td>...</td>\n",
       "      <td>...</td>\n",
       "      <td>...</td>\n",
       "      <td>...</td>\n",
       "      <td>...</td>\n",
       "    </tr>\n",
       "    <tr>\n",
       "      <th>10122</th>\n",
       "      <td>메밀</td>\n",
       "      <td>9</td>\n",
       "      <td>성산</td>\n",
       "      <td>평지</td>\n",
       "      <td>잎-뒷면</td>\n",
       "      <td>초본</td>\n",
       "      <td>잎-뒷면</td>\n",
       "      <td>2</td>\n",
       "      <td>10</td>\n",
       "    </tr>\n",
       "    <tr>\n",
       "      <th>10123</th>\n",
       "      <td>메밀</td>\n",
       "      <td>9</td>\n",
       "      <td>성산</td>\n",
       "      <td>평지</td>\n",
       "      <td>잎-뒷면</td>\n",
       "      <td>초본</td>\n",
       "      <td>잎-뒷면</td>\n",
       "      <td>2</td>\n",
       "      <td>10</td>\n",
       "    </tr>\n",
       "    <tr>\n",
       "      <th>10124</th>\n",
       "      <td>메밀</td>\n",
       "      <td>9</td>\n",
       "      <td>성산</td>\n",
       "      <td>평지</td>\n",
       "      <td>잎-뒷면</td>\n",
       "      <td>초본</td>\n",
       "      <td>잎-뒷면</td>\n",
       "      <td>2</td>\n",
       "      <td>10</td>\n",
       "    </tr>\n",
       "    <tr>\n",
       "      <th>10125</th>\n",
       "      <td>메밀</td>\n",
       "      <td>9</td>\n",
       "      <td>성산</td>\n",
       "      <td>평지</td>\n",
       "      <td>잎-뒷면</td>\n",
       "      <td>초본</td>\n",
       "      <td>잎-뒷면</td>\n",
       "      <td>2</td>\n",
       "      <td>10</td>\n",
       "    </tr>\n",
       "    <tr>\n",
       "      <th>10126</th>\n",
       "      <td>메밀</td>\n",
       "      <td>9</td>\n",
       "      <td>성산</td>\n",
       "      <td>평지</td>\n",
       "      <td>잎-뒷면</td>\n",
       "      <td>초본</td>\n",
       "      <td>잎-뒷면</td>\n",
       "      <td>2</td>\n",
       "      <td>10</td>\n",
       "    </tr>\n",
       "  </tbody>\n",
       "</table>\n",
       "<p>10127 rows × 9 columns</p>\n",
       "</div>"
      ],
      "text/plain": [
       "      wd_plnt_nm  wd_plnt_idntfr     region_nm region_type plant_part  \\\n",
       "0             메밀               9  서귀포시 안덕면 서광리          평지          꽃   \n",
       "1             메밀               9  서귀포시 안덕면 서광리          평지          꽃   \n",
       "2             메밀               9  서귀포시 안덕면 서광리          평지          꽃   \n",
       "3             메밀               9  서귀포시 안덕면 서광리          평지          꽃   \n",
       "4             메밀               9  서귀포시 안덕면 서광리          평지          꽃   \n",
       "...          ...             ...           ...         ...        ...   \n",
       "10122         메밀               9            성산          평지       잎-뒷면   \n",
       "10123         메밀               9            성산          평지       잎-뒷면   \n",
       "10124         메밀               9            성산          평지       잎-뒷면   \n",
       "10125         메밀               9            성산          평지       잎-뒷면   \n",
       "10126         메밀               9            성산          평지       잎-뒷면   \n",
       "\n",
       "      object_class_lclas_nm object_class_sclas_nm  woody_herbal  \\\n",
       "0                        초본                     꽃             2   \n",
       "1                        초본                     꽃             2   \n",
       "2                        초본                     꽃             2   \n",
       "3                        초본                     꽃             2   \n",
       "4                        초본                     꽃             2   \n",
       "...                     ...                   ...           ...   \n",
       "10122                    초본                  잎-뒷면             2   \n",
       "10123                    초본                  잎-뒷면             2   \n",
       "10124                    초본                  잎-뒷면             2   \n",
       "10125                    초본                  잎-뒷면             2   \n",
       "10126                    초본                  잎-뒷면             2   \n",
       "\n",
       "       acquisition_term  \n",
       "0                     6  \n",
       "1                     6  \n",
       "2                     6  \n",
       "3                     6  \n",
       "4                     6  \n",
       "...                 ...  \n",
       "10122                10  \n",
       "10123                10  \n",
       "10124                10  \n",
       "10125                10  \n",
       "10126                10  \n",
       "\n",
       "[10127 rows x 9 columns]"
      ]
     },
     "execution_count": 192,
     "metadata": {},
     "output_type": "execute_result"
    }
   ],
   "source": [
    "df1"
   ]
  },
  {
   "cell_type": "markdown",
   "metadata": {},
   "source": [
    "라벨링"
   ]
  },
  {
   "cell_type": "code",
   "execution_count": 211,
   "metadata": {},
   "outputs": [],
   "source": [
    "from sklearn.preprocessing import LabelEncoder\n",
    "import numpy as np\n",
    "\n",
    "le_wd_plnt_nm = LabelEncoder()\n",
    "le_region_nm = LabelEncoder()\n",
    "# df1['wd_plnt_nm'] = le_wd_plnt_nm.fit_transform(df1['wd_plnt_nm'])\n",
    "# df1['region_nm'] = le_region_nm.fit_transform(df1['region_nm'])\n",
    "# df['acquisition_term']=df['acquisition_term'].apply(lambda x: int(x.strip('월')))\n",
    "# df1['region_type']=np.where('평지'==df1['region_type'],1,0,)\n"
   ]
  },
  {
   "cell_type": "code",
   "execution_count": null,
   "metadata": {},
   "outputs": [],
   "source": [
    "le_wd_plnt_nm.classes_,le_region_nm.classes_"
   ]
  },
  {
   "cell_type": "markdown",
   "metadata": {},
   "source": [
    "리네임"
   ]
  },
  {
   "cell_type": "code",
   "execution_count": 271,
   "metadata": {},
   "outputs": [],
   "source": [
    "# df1.rename(columns={'wd_plnt_nm':'식물명',\n",
    "#             'wd_plnt_idntfr':'자생식물식별자',\n",
    "#             'region_nm':'촬영장소명',\n",
    "#             'region_type':'생육지형',\n",
    "#             'woody_herbal':'목본/초본',\n",
    "#             'acquisition_term':'취득시기'},inplace=True)"
   ]
  },
  {
   "cell_type": "markdown",
   "metadata": {},
   "source": [
    "학습"
   ]
  },
  {
   "cell_type": "code",
   "execution_count": null,
   "metadata": {},
   "outputs": [],
   "source": [
    "from sklearn.model_selection import train_test_split\n",
    "from sklearn.svm import SVC\n",
    "X_train,X_test,y_train,y_test = train_test_split(\n",
    "    df1.iloc[:,1:],df1['wd_plnt_nm'],stratify=df1['wd_plnt_nm']\n",
    ")\n",
    "svc = SVC()\n",
    "svc.fit(X_train,y_train)\n"
   ]
  },
  {
   "cell_type": "code",
   "execution_count": 282,
   "metadata": {},
   "outputs": [
    {
     "data": {
      "text/plain": [
       "array([9, 6, 1, ..., 7, 6, 7])"
      ]
     },
     "execution_count": 282,
     "metadata": {},
     "output_type": "execute_result"
    }
   ],
   "source": [
    "y_pred=svc.predict(X_test)\n",
    "y_pred,y_test"
   ]
  },
  {
   "cell_type": "code",
   "execution_count": 276,
   "metadata": {},
   "outputs": [
    {
     "data": {
      "text/plain": [
       "0.9715639810426541"
      ]
     },
     "execution_count": 276,
     "metadata": {},
     "output_type": "execute_result"
    }
   ],
   "source": [
    "svc.score(X_test,y_test)"
   ]
  },
  {
   "cell_type": "markdown",
   "metadata": {},
   "source": [
    "성능평가"
   ]
  },
  {
   "cell_type": "code",
   "execution_count": 298,
   "metadata": {},
   "outputs": [
    {
     "data": {
      "text/plain": [
       "0.9715639810426541"
      ]
     },
     "execution_count": 298,
     "metadata": {},
     "output_type": "execute_result"
    }
   ],
   "source": [
    "from sklearn.metrics import confusion_matrix,accuracy_score,precision_score,recall_score,f1_score,roc_auc_score\n",
    "# confusion_matrix(y_test,y_pred)\n",
    "accuracy_score(y_test,y_pred)\n",
    "precision_score(y_test,y_pred,average=None)\n",
    "recall_score(y_test,y_pred,average=None)"
   ]
  },
  {
   "cell_type": "code",
   "execution_count": null,
   "metadata": {},
   "outputs": [],
   "source": [
    "import "
   ]
  },
  {
   "cell_type": "markdown",
   "metadata": {},
   "source": [
    "어느정도 성공함"
   ]
  },
  {
   "cell_type": "markdown",
   "metadata": {},
   "source": []
  }
 ],
 "metadata": {
  "interpreter": {
   "hash": "b3ba2566441a7c06988d0923437866b63cedc61552a5af99d1f4fb67d367b25f"
  },
  "kernelspec": {
   "display_name": "Python 3.9.7 64-bit ('base': conda)",
   "language": "python",
   "name": "python3"
  },
  "language_info": {
   "codemirror_mode": {
    "name": "ipython",
    "version": 3
   },
   "file_extension": ".py",
   "mimetype": "text/x-python",
   "name": "python",
   "nbconvert_exporter": "python",
   "pygments_lexer": "ipython3",
   "version": "3.9.7"
  },
  "orig_nbformat": 4
 },
 "nbformat": 4,
 "nbformat_minor": 2
}
