{
 "cells": [
  {
   "cell_type": "markdown",
   "metadata": {},
   "source": [
    "1 . 현재 경로에 폴더 만들어보기"
   ]
  },
  {
   "cell_type": "code",
   "execution_count": null,
   "metadata": {},
   "outputs": [],
   "source": [
    "C:\\workspace\\eatand_medicinal_plant\\학습용데이터\\01.원천데이터\\식의약용 자생식물 분석 데이터"
   ]
  },
  {
   "cell_type": "code",
   "execution_count": 7,
   "metadata": {},
   "outputs": [],
   "source": [
    "from glob import glob"
   ]
  },
  {
   "cell_type": "code",
   "execution_count": 15,
   "metadata": {},
   "outputs": [],
   "source": [
    "glob_list=glob('C:\\workspace\\eatand_medicinal_plant\\\\학습용데이터\\\\01.원천데이터\\\\식의약용 자생식물 분석 데이터\\\\*\\\\*')"
   ]
  },
  {
   "cell_type": "code",
   "execution_count": 23,
   "metadata": {},
   "outputs": [],
   "source": [
    "glob_listfile=glob('C:\\workspace\\eatand_medicinal_plant\\\\학습용데이터\\\\01.원천데이터\\\\식의약용 자생식물 분석 데이터\\\\*\\\\*\\\\*.jpg')"
   ]
  },
  {
   "cell_type": "code",
   "execution_count": 35,
   "metadata": {},
   "outputs": [],
   "source": [
    "wordlist=[]\n",
    "for i,a in enumerate(glob('C:\\workspace\\eatand_medicinal_plant\\\\학습용데이터\\\\01.원천데이터\\\\식의약용 자생식물 분석 데이터\\\\*\\\\*')):\n",
    "    wordlist.append(glob('C:\\workspace\\eatand_medicinal_plant\\\\학습용데이터\\\\01.원천데이터\\\\식의약용 자생식물 분석 데이터\\\\*\\\\*')[i].split('\\\\')[-1])"
   ]
  },
  {
   "cell_type": "code",
   "execution_count": 36,
   "metadata": {},
   "outputs": [
    {
     "data": {
      "text/plain": [
       "['메밀',\n",
       " '순비기나무',\n",
       " '참꽃나무',\n",
       " '큰조롱',\n",
       " '한라꽃향유',\n",
       " '해국',\n",
       " '황근',\n",
       " '메밀',\n",
       " '참식나무',\n",
       " '구실잣밤나무',\n",
       " '까마귀쪽나무',\n",
       " '꽝꽝나무',\n",
       " '돈나무',\n",
       " '백량금',\n",
       " '순비기나무',\n",
       " '좁은잎천선과',\n",
       " '참가시나무',\n",
       " '황근']"
      ]
     },
     "execution_count": 36,
     "metadata": {},
     "output_type": "execute_result"
    }
   ],
   "source": [
    "wordlist"
   ]
  },
  {
   "cell_type": "code",
   "execution_count": 24,
   "metadata": {},
   "outputs": [
    {
     "data": {
      "text/plain": [
       "'C:\\\\workspace\\\\eatand_medicinal_plant\\\\학습용데이터\\\\01.원천데이터\\\\식의약용 자생식물 분석 데이터\\\\꽃\\\\메밀\\\\CR009_02_50014a.jpg'"
      ]
     },
     "execution_count": 24,
     "metadata": {},
     "output_type": "execute_result"
    }
   ],
   "source": [
    "glob_listfile[0]"
   ]
  },
  {
   "cell_type": "code",
   "execution_count": null,
   "metadata": {},
   "outputs": [],
   "source": [
    "os."
   ]
  },
  {
   "cell_type": "code",
   "execution_count": 18,
   "metadata": {},
   "outputs": [],
   "source": []
  },
  {
   "cell_type": "markdown",
   "metadata": {},
   "source": [
    "2. 이미지 데이터에 적용해보기 \n"
   ]
  },
  {
   "cell_type": "code",
   "execution_count": null,
   "metadata": {},
   "outputs": [],
   "source": [
    "# import os\n",
    "# for glist in glob_list:\n",
    "#     os.mkdir(glist+'\\\\class')"
   ]
  },
  {
   "cell_type": "code",
   "execution_count": 45,
   "metadata": {},
   "outputs": [],
   "source": [
    "import os\n",
    "import shutil"
   ]
  },
  {
   "cell_type": "code",
   "execution_count": 42,
   "metadata": {},
   "outputs": [
    {
     "data": {
      "text/plain": [
       "['C:\\\\workspace\\\\eatand_medicinal_plant\\\\학습용데이터\\\\01.원천데이터\\\\식의약용 자생식물 분석 데이터\\\\꽃\\\\메밀',\n",
       " 'C:\\\\workspace\\\\eatand_medicinal_plant\\\\학습용데이터\\\\01.원천데이터\\\\식의약용 자생식물 분석 데이터\\\\꽃잎\\\\메밀']"
      ]
     },
     "execution_count": 42,
     "metadata": {},
     "output_type": "execute_result"
    }
   ],
   "source": [
    "word\n",
    "glob(f'C:\\workspace\\eatand_medicinal_plant\\\\학습용데이터\\\\01.원천데이터\\\\식의약용 자생식물 분석 데이터\\\\*\\\\{wordlist[0]}')list"
   ]
  },
  {
   "cell_type": "code",
   "execution_count": 51,
   "metadata": {},
   "outputs": [
    {
     "data": {
      "text/plain": [
       "'CR009_02_50014a.jpg'"
      ]
     },
     "execution_count": 51,
     "metadata": {},
     "output_type": "execute_result"
    }
   ],
   "source": [
    "source = f'C:\\workspace\\eatand_medicinal_plant\\\\학습용데이터\\\\01.원천데이터\\\\식의약용 자생식물 분석 데이터\\\\꽃\\\\{wordlist[0]}'\n",
    "files = os.listdir(source)\n",
    "files[1]"
   ]
  },
  {
   "cell_type": "code",
   "execution_count": null,
   "metadata": {},
   "outputs": [],
   "source": [
    "wordlist=[]\n",
    "for i,a in enumerate(glob('C:\\workspace\\eatand_medicinal_plant\\\\학습용데이터\\\\01.원천데이터\\\\식의약용 자생식물 분석 데이터\\\\*\\\\*')):\n",
    "    wordlist.append(glob('C:\\workspace\\eatand_medicinal_plant\\\\학습용데이터\\\\01.원천데이터\\\\식의약용 자생식물 분석 데이터\\\\*\\\\*')[i].split('\\\\')[-1])"
   ]
  },
  {
   "cell_type": "code",
   "execution_count": null,
   "metadata": {},
   "outputs": [],
   "source": [
    "# CR로 끝나는 파일 옮기기 "
   ]
  },
  {
   "cell_type": "code",
   "execution_count": 59,
   "metadata": {},
   "outputs": [],
   "source": [
    "열매=glob('C:\\workspace\\eatand_medicinal_plant\\\\학습용데이터\\\\01.원천데이터\\\\식의약용 자생식물 분석 데이터\\\\열매\\\\*')"
   ]
  },
  {
   "cell_type": "code",
   "execution_count": null,
   "metadata": {},
   "outputs": [],
   "source": []
  },
  {
   "cell_type": "code",
   "execution_count": null,
   "metadata": {},
   "outputs": [],
   "source": []
  },
  {
   "cell_type": "code",
   "execution_count": null,
   "metadata": {},
   "outputs": [],
   "source": [
    "# 클래스폴더로 옮기기 \n",
    "wordlist=['구실잠','참식나무']\n",
    "for j in range(len(열매)):\n",
    "    source = 열매[j]\n",
    "    files = os.listdir(source)\n",
    "    for i in range(1,len(files)):\n",
    "        new_path=shutil.move(f'{source}\\\\{files[i]}',f'{source}\\\\{files[0]}')\n",
    "        print(new_path)"
   ]
  },
  {
   "cell_type": "code",
   "execution_count": null,
   "metadata": {},
   "outputs": [],
   "source": []
  },
  {
   "cell_type": "code",
   "execution_count": null,
   "metadata": {},
   "outputs": [],
   "source": []
  },
  {
   "cell_type": "code",
   "execution_count": 61,
   "metadata": {},
   "outputs": [
    {
     "name": "stderr",
     "output_type": "stream",
     "text": [
      "Copying files: 10125 files [01:17, 131.30 files/s]\n"
     ]
    }
   ],
   "source": [
    "import splitfolders as spf\n",
    "spf.ratio('C:\\workspace\\eatand_medicinal_plant\\\\학습용데이터\\\\01.원천데이터\\\\이미지데이터원본\\\\',output='C:\\workspace\\eatand_medicinal_plant\\\\학습용데이터\\\\01.원천데이터\\\\이미지학습용데이터\\\\',ratio=(0.6,0.2,0.2))"
   ]
  },
  {
   "cell_type": "markdown",
   "metadata": {},
   "source": []
  }
 ],
 "metadata": {
  "interpreter": {
   "hash": "b3ba2566441a7c06988d0923437866b63cedc61552a5af99d1f4fb67d367b25f"
  },
  "kernelspec": {
   "display_name": "Python 3.9.7 64-bit ('base': conda)",
   "language": "python",
   "name": "python3"
  },
  "language_info": {
   "codemirror_mode": {
    "name": "ipython",
    "version": 3
   },
   "file_extension": ".py",
   "mimetype": "text/x-python",
   "name": "python",
   "nbconvert_exporter": "python",
   "pygments_lexer": "ipython3",
   "version": "3.9.7"
  },
  "orig_nbformat": 4
 },
 "nbformat": 4,
 "nbformat_minor": 2
}
